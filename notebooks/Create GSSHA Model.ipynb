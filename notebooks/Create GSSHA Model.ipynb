{
 "cells": [
  {
   "cell_type": "markdown",
   "metadata": {},
   "source": [
    "## Installation Instructions\n",
    "\n",
    "Download and install miniconda: https://conda.io/miniconda.html\n",
    "\n",
    "Make sure you are using the conda-forge channel:\n",
    "```bash\n",
    "$ conda config --add channels conda-forge\n",
    "$ conda update --yes conda python\n",
    "```\n",
    "\n",
    "Install gsshapy:\n",
    "```bash\n",
    "$ conda create -n gssha python=2\n",
    "$ source activate gssha\n",
    "(gssha)$ conda install --yes gsshapy\n",
    "```"
   ]
  },
  {
   "cell_type": "code",
   "execution_count": null,
   "metadata": {
    "collapsed": true
   },
   "outputs": [],
   "source": [
    "from datetime import datetime, timedelta\n",
    "import os\n",
    "try:\n",
    "    from  urllib import urlretrieve\n",
    "except ImportError:\n",
    "    from urllib.request import urlretrieve\n",
    "\n",
    "from gsshapy.modeling import GSSHAModel"
   ]
  },
  {
   "cell_type": "markdown",
   "metadata": {},
   "source": [
    "Parameters to change for the run:"
   ]
  },
  {
   "cell_type": "code",
   "execution_count": null,
   "metadata": {
    "collapsed": true
   },
   "outputs": [],
   "source": [
    "base_dir = os.getcwd()\n",
    "gssha_model_name = 'philippines_example'\n",
    "land_use_grid_id = 'glcf'\n",
    "gssha_model_directory = os.path.join(base_dir, gssha_model_name)\n",
    "# make the directory for the output\n",
    "try:\n",
    "    os.mkdir(gssha_model_directory)\n",
    "except OSError:\n",
    "    pass"
   ]
  },
  {
   "cell_type": "markdown",
   "metadata": {},
   "source": [
    "Download files:"
   ]
  },
  {
   "cell_type": "code",
   "execution_count": null,
   "metadata": {
    "collapsed": true
   },
   "outputs": [],
   "source": [
    "base_boundary_url = ('https://github.com/CI-WATER/gsshapy/'\n",
    "                     'raw/master/tests/grid_standard/'\n",
    "                     'phillipines/')\n",
    "base_shape_filename = 'phillipines_5070115700'\n",
    "\n",
    "\n",
    "# retrieve the shapefile\n",
    "shapefile_name = base_shape_filename+'.shp'\n",
    "boundary_shapefile = urlretrieve(base_boundary_url+shapefile_name,\n",
    "                                 filename=os.path.join(gssha_model_directory, shapefile_name))[0]\n",
    "for file_extension in ['.shx', '.prj', '.dbf']:\n",
    "    file_name = base_shape_filename+file_extension\n",
    "    urlretrieve(base_boundary_url+file_name, \n",
    "                filename=os.path.join(gssha_model_directory, file_name))\n",
    "    \n",
    "# retrieve the DEM\n",
    "elevation_file_path = urlretrieve(base_boundary_url + 'gmted_elevation.tif', \n",
    "                                  filename=os.path.join(gssha_model_directory, 'gmted_elevation.tif'))[0]\n",
    "# retrieve the land use grid\n",
    "land_cover_url = ('https://github.com/CI-WATER/gsshapy/'\n",
    "                  'raw/master/tests/grid_standard/'\n",
    "                  'land_cover/LC_hd_global_2012.tif')\n",
    "land_use_file_path = urlretrieve(land_cover_url, \n",
    "                                 filename=os.path.join(gssha_model_directory, 'LC_hd_global_2012.tif'))[0]"
   ]
  },
  {
   "cell_type": "markdown",
   "metadata": {},
   "source": [
    "Use the data to generate a GSSHA model:"
   ]
  },
  {
   "cell_type": "code",
   "execution_count": null,
   "metadata": {
    "collapsed": true
   },
   "outputs": [],
   "source": [
    "# generate GSSHA model files\n",
    "model = GSSHAModel(project_name=gssha_model_name,\n",
    "                   project_directory=gssha_model_directory,\n",
    "                   mask_shapefile=boundary_shapefile,\n",
    "                   elevation_grid_path=elevation_file_path,\n",
    "                   land_use_grid=land_use_file_path,\n",
    "                   land_use_grid_id=land_use_grid_id,\n",
    "                   out_hydrograph_write_frequency=1,\n",
    "                   load_rasters_to_db=False)\n",
    "\n",
    "# add card for max depth\n",
    "model.project_manager.setCard('FLOOD_GRID',\n",
    "                              '{0}.fgd'.format(gssha_model_name),\n",
    "                              add_quotes=True)\n",
    "# TODO: Add depth grids to simulation\n",
    "# MAP_FREQ, DEPTH\n",
    "\n",
    "# add event for simulation\n",
    "model.set_event(simulation_start=datetime.utcnow(),\n",
    "                simulation_duration=timedelta(seconds=2*60),\n",
    "                rain_intensity=24,\n",
    "                rain_duration=timedelta(seconds=1*60),\n",
    "                )\n",
    "model.write()"
   ]
  },
  {
   "cell_type": "markdown",
   "metadata": {
    "collapsed": true
   },
   "source": [
    "More information about options can be found here: http://gsshapy.readthedocs.io/en/latest/api/modeling/modeling.html"
   ]
  },
  {
   "cell_type": "code",
   "execution_count": null,
   "metadata": {
    "collapsed": true
   },
   "outputs": [],
   "source": []
  }
 ],
 "metadata": {
  "kernelspec": {
   "display_name": "Python 3",
   "language": "python",
   "name": "python3"
  },
  "language_info": {
   "codemirror_mode": {
    "name": "ipython",
    "version": 3
   },
   "file_extension": ".py",
   "mimetype": "text/x-python",
   "name": "python",
   "nbconvert_exporter": "python",
   "pygments_lexer": "ipython3",
   "version": "3.5.4"
  }
 },
 "nbformat": 4,
 "nbformat_minor": 2
}
