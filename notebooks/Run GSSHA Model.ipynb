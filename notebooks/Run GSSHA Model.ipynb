{
 "cells": [
  {
   "cell_type": "markdown",
   "metadata": {},
   "source": [
    "# Installation Instructions\n",
    "\n",
    "Download and install miniconda: \n",
    "https://conda.io/miniconda.html\n",
    "\n",
    "Make sure you are using the conda-forge channel:\n",
    "```bash\n",
    "$ conda config --add channels conda-forge\n",
    "$ conda update --yes conda python\n",
    "```\n",
    "\n",
    "Install gsshapy:\n",
    "```bash\n",
    "$ conda create -n gssha python=2\n",
    "$ source activate gssha\n",
    "(gssha)$ conda install --yes gsshapy\n",
    "```\n",
    "\n",
    "Install GSSHA:\n",
    "http://www.gsshawiki.com/GSSHA_Download"
   ]
  },
  {
   "cell_type": "code",
   "execution_count": 2,
   "metadata": {},
   "outputs": [],
   "source": [
    "import os\n",
    "from datetime import datetime, timedelta\n",
    "\n",
    "from gsshapy.modeling import GSSHAFramework"
   ]
  },
  {
   "cell_type": "markdown",
   "metadata": {},
   "source": [
    "Setup environment:"
   ]
  },
  {
   "cell_type": "code",
   "execution_count": 3,
   "metadata": {},
   "outputs": [],
   "source": [
    "# assuming notebook is run from examples folder\n",
    "base_dir = os.getcwd()\n",
    "gssha_model_name = 'philippines_example'\n",
    "gssha_model_directory = os.path.join(base_dir, gssha_model_name)"
   ]
  },
  {
   "cell_type": "markdown",
   "metadata": {},
   "source": [
    "Run the model:"
   ]
  },
  {
   "cell_type": "code",
   "execution_count": 5,
   "metadata": {},
   "outputs": [],
   "source": [
    "gr = GSSHAFramework(\"gssha\",\n",
    "                    gssha_model_directory,\n",
    "                    \"{0}.prj\".format(gssha_model_name),\n",
    "                    gssha_simulation_start=datetime(2017, 5 ,9),\n",
    "                    gssha_simulation_duration=timedelta(seconds=2*60))\n",
    "\n",
    "# http://www.gsshawiki.com/Model_Construction:Defining_a_uniform_precipitation_event\n",
    "rain_intensity = 24  # mm/hr \n",
    "rain_duration = timedelta(seconds=1*60)  # 2 minutes\n",
    "gr.event_manager.add_uniform_precip_event(rain_intensity,\n",
    "                                          rain_duration)\n",
    "\n",
    "gssha_event_directory = gr.run()"
   ]
  },
  {
   "cell_type": "markdown",
   "metadata": {
    "collapsed": true
   },
   "source": [
    "The `gssha_event_directory` is where the simulation output is stored."
   ]
  },
  {
   "cell_type": "code",
   "execution_count": 6,
   "metadata": {},
   "outputs": [
    {
     "data": {
      "text/plain": [
       "'/Users/rdchlads/scripts/gsshapy/notebooks/philippines_example/run_201705090000to201705090002'"
      ]
     },
     "execution_count": 6,
     "metadata": {},
     "output_type": "execute_result"
    }
   ],
   "source": [
    "gssha_event_directory"
   ]
  },
  {
   "cell_type": "code",
   "execution_count": null,
   "metadata": {
    "collapsed": true
   },
   "outputs": [],
   "source": []
  }
 ],
 "metadata": {
  "kernelspec": {
   "display_name": "Python 3",
   "language": "python",
   "name": "python3"
  },
  "language_info": {
   "codemirror_mode": {
    "name": "ipython",
    "version": 3
   },
   "file_extension": ".py",
   "mimetype": "text/x-python",
   "name": "python",
   "nbconvert_exporter": "python",
   "pygments_lexer": "ipython3",
   "version": "3.5.4"
  }
 },
 "nbformat": 4,
 "nbformat_minor": 2
}
