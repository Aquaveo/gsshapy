{
 "cells": [
  {
   "cell_type": "markdown",
   "metadata": {},
   "source": [
    "# Installation Instructions\n",
    "\n",
    "Download and install miniconda: \n",
    "https://conda.io/miniconda.html\n",
    "\n",
    "Make sure you are using the conda-forge channel:\n",
    "```bash\n",
    "$ conda config --add channels conda-forge\n",
    "$ conda update --yes conda python\n",
    "```\n",
    "\n",
    "Install gsshapy:\n",
    "```bash\n",
    "$ conda create -n gssha python=2\n",
    "$ source activate gssha\n",
    "(gssha)$ conda install --yes gsshapy pynio\n",
    "```\n",
    "\n",
    "Install GSSHA:\n",
    "http://www.gsshawiki.com/GSSHA_Download\n",
    "\n",
    "<div class=\"alert alert-warning\">\n",
    "This will NOT work on Windows.\n",
    "</div>"
   ]
  },
  {
   "cell_type": "code",
   "execution_count": 17,
   "metadata": {
    "collapsed": true
   },
   "outputs": [],
   "source": [
    "import os\n",
    "from datetime import datetime, timedelta\n",
    "\n",
    "from gsshapy.modeling import GSSHAFramework\n",
    "from gsshapy.grid import HRRRtoGSSHA\n",
    "from gsshapy.grid.hrrr_to_gssha import download_hrrr_for_gssha\n",
    "from gsshapy.lib import db_tools as dbt\n",
    "\n",
    "import pangaea as pa"
   ]
  },
  {
   "cell_type": "markdown",
   "metadata": {},
   "source": [
    "Setup environment:"
   ]
  },
  {
   "cell_type": "code",
   "execution_count": 2,
   "metadata": {
    "collapsed": true
   },
   "outputs": [],
   "source": [
    "# assuming notebook is run from examples folder\n",
    "# DONT FORGET dos2unix or unix2dos\n",
    "base_dir = '/Users/rdchlads/GSSHA_INPUT/'\n",
    "gssha_model_name = '2017_08_16_270m'\n",
    "gssha_model_directory = os.path.join(base_dir, gssha_model_name)\n",
    "hrrr_output_directory = os.path.join(gssha_model_directory, 'hrrr_data')\n",
    "try:\n",
    "    os.mkdir(hrrr_output_directory)\n",
    "except OSError:\n",
    "    pass"
   ]
  },
  {
   "cell_type": "markdown",
   "metadata": {},
   "source": [
    "Get GSSHA model bounds:"
   ]
  },
  {
   "cell_type": "code",
   "execution_count": 3,
   "metadata": {},
   "outputs": [
    {
     "data": {
      "text/plain": [
       "(-123.38788486927815,\n",
       " -122.99241054261093,\n",
       " 38.99598545548028,\n",
       " 39.399585966942034)"
      ]
     },
     "execution_count": 3,
     "metadata": {},
     "output_type": "execute_result"
    }
   ],
   "source": [
    "# load in GSSHA model files\n",
    "project_manager, db_sessionmaker = \\\n",
    "    dbt.get_project_session(gssha_model_name,\n",
    "                            gssha_model_directory)\n",
    "\n",
    "db_session = db_sessionmaker()\n",
    "project_manager.read(directory=gssha_model_directory,\n",
    "                     filename=\"{0}.prj\".format(gssha_model_name),\n",
    "                     session=db_session)\n",
    "\n",
    "gssha_grid = project_manager.getGrid()\n",
    "# reproject GSSHA grid and get bounds\n",
    "min_x, max_x, min_y, max_y = gssha_grid.bounds(as_geographic=True)\n",
    "min_x, max_x, min_y, max_y"
   ]
  },
  {
   "cell_type": "markdown",
   "metadata": {},
   "source": [
    "Download HRRR Data:"
   ]
  },
  {
   "cell_type": "code",
   "execution_count": 4,
   "metadata": {},
   "outputs": [
    {
     "data": {
      "text/plain": [
       "['/Users/rdchlads/GSSHA_INPUT/2017_08_16_270m/hrrr_data/20170913/hrrr.t00z.wrfsfcf00.grib2',\n",
       " '/Users/rdchlads/GSSHA_INPUT/2017_08_16_270m/hrrr_data/20170913/hrrr.t00z.wrfsfcf01.grib2',\n",
       " '/Users/rdchlads/GSSHA_INPUT/2017_08_16_270m/hrrr_data/20170913/hrrr.t00z.wrfsfcf02.grib2',\n",
       " '/Users/rdchlads/GSSHA_INPUT/2017_08_16_270m/hrrr_data/20170913/hrrr.t00z.wrfsfcf03.grib2',\n",
       " '/Users/rdchlads/GSSHA_INPUT/2017_08_16_270m/hrrr_data/20170913/hrrr.t00z.wrfsfcf04.grib2',\n",
       " '/Users/rdchlads/GSSHA_INPUT/2017_08_16_270m/hrrr_data/20170913/hrrr.t00z.wrfsfcf05.grib2',\n",
       " '/Users/rdchlads/GSSHA_INPUT/2017_08_16_270m/hrrr_data/20170913/hrrr.t00z.wrfsfcf06.grib2',\n",
       " '/Users/rdchlads/GSSHA_INPUT/2017_08_16_270m/hrrr_data/20170913/hrrr.t00z.wrfsfcf07.grib2',\n",
       " '/Users/rdchlads/GSSHA_INPUT/2017_08_16_270m/hrrr_data/20170913/hrrr.t00z.wrfsfcf08.grib2',\n",
       " '/Users/rdchlads/GSSHA_INPUT/2017_08_16_270m/hrrr_data/20170913/hrrr.t00z.wrfsfcf09.grib2',\n",
       " '/Users/rdchlads/GSSHA_INPUT/2017_08_16_270m/hrrr_data/20170913/hrrr.t00z.wrfsfcf10.grib2',\n",
       " '/Users/rdchlads/GSSHA_INPUT/2017_08_16_270m/hrrr_data/20170913/hrrr.t00z.wrfsfcf11.grib2',\n",
       " '/Users/rdchlads/GSSHA_INPUT/2017_08_16_270m/hrrr_data/20170913/hrrr.t00z.wrfsfcf12.grib2',\n",
       " '/Users/rdchlads/GSSHA_INPUT/2017_08_16_270m/hrrr_data/20170913/hrrr.t00z.wrfsfcf13.grib2',\n",
       " '/Users/rdchlads/GSSHA_INPUT/2017_08_16_270m/hrrr_data/20170913/hrrr.t00z.wrfsfcf14.grib2',\n",
       " '/Users/rdchlads/GSSHA_INPUT/2017_08_16_270m/hrrr_data/20170913/hrrr.t00z.wrfsfcf15.grib2',\n",
       " '/Users/rdchlads/GSSHA_INPUT/2017_08_16_270m/hrrr_data/20170913/hrrr.t00z.wrfsfcf16.grib2',\n",
       " '/Users/rdchlads/GSSHA_INPUT/2017_08_16_270m/hrrr_data/20170913/hrrr.t00z.wrfsfcf17.grib2',\n",
       " '/Users/rdchlads/GSSHA_INPUT/2017_08_16_270m/hrrr_data/20170913/hrrr.t00z.wrfsfcf18.grib2']"
      ]
     },
     "execution_count": 4,
     "metadata": {},
     "output_type": "execute_result"
    }
   ],
   "source": [
    "downloaded_files = download_hrrr_for_gssha(main_directory=hrrr_output_directory,\n",
    "                                           forecast_start_date_string='20170913',\n",
    "                                           forecast_start_hour_string='00',\n",
    "                                           leftlon=min_x, \n",
    "                                           rightlon=max_x,\n",
    "                                           toplat=max_y,\n",
    "                                           bottomlat=min_y)\n",
    "downloaded_files"
   ]
  },
  {
   "cell_type": "markdown",
   "metadata": {},
   "source": [
    "Inspect the grid data:"
   ]
  },
  {
   "cell_type": "code",
   "execution_count": 19,
   "metadata": {},
   "outputs": [
    {
     "name": "stdout",
     "output_type": "stream",
     "text": [
      "<xarray.Dataset>\n",
      "Dimensions:            (time: 19, xgrid_0: 14, ygrid_0: 17)\n",
      "Coordinates:\n",
      "    gridlat_0          (ygrid_0, xgrid_0) float32 38.9327 38.9401 38.9476 ...\n",
      "    gridlon_0          (ygrid_0, xgrid_0) float32 -123.335 -123.301 -123.268 ...\n",
      "  * time               (time) datetime64[ns] 2017-09-13 2017-09-13T01:00:00 ...\n",
      "Dimensions without coordinates: xgrid_0, ygrid_0\n",
      "Data variables:\n",
      "    TMP_P0_L1_GLC0     (time, ygrid_0, xgrid_0) float64 304.7 304.5 301.9 ...\n",
      "    RH_P0_L103_GLC0    (time, ygrid_0, xgrid_0) float64 48.6 49.6 54.7 52.8 ...\n",
      "    PRES_P0_L1_GLC0    (time, ygrid_0, xgrid_0) float64 9.636e+04 9.609e+04 ...\n",
      "    TMP_P0_L103_GLC0   (time, ygrid_0, xgrid_0) float64 299.7 298.9 297.3 ...\n",
      "    gridrot_0          (time, ygrid_0, xgrid_0) float32 -0.28069 -0.280328 ...\n",
      "    TCDC_P0_L10_GLC0   (time, ygrid_0, xgrid_0) float64 5.5 3.625 2.5 2.5 ...\n",
      "    PRATE_P0_L1_GLC0   (time, ygrid_0, xgrid_0) float64 0.0 0.0 0.0 0.0 0.0 ...\n",
      "    UGRD_P0_L103_GLC0  (time, ygrid_0, xgrid_0) float64 2.501 2.876 4.001 ...\n",
      "    VGRD_P0_L103_GLC0  (time, ygrid_0, xgrid_0) float64 0.3044 -0.6331 ...\n",
      "    DSWRF_P0_L1_GLC0   (time, ygrid_0, xgrid_0) float64 401.8 401.4 405.7 ...\n",
      "<xarray.DataArray 'PRATE_P0_L1_GLC0' (time: 19, ygrid_0: 17, xgrid_0: 14)>\n",
      "dask.array<concatenate, shape=(19, 17, 14), dtype=float64, chunksize=(1, 17, 14)>\n",
      "Coordinates:\n",
      "    gridlat_0  (ygrid_0, xgrid_0) float32 38.9327 38.9401 38.9476 38.955 ...\n",
      "    gridlon_0  (ygrid_0, xgrid_0) float32 -123.335 -123.301 -123.268 ...\n",
      "  * time       (time) datetime64[ns] 2017-09-13 2017-09-13T01:00:00 ...\n",
      "Dimensions without coordinates: ygrid_0, xgrid_0\n",
      "Attributes:\n",
      "    production_status:                              Operational products\n",
      "    center:                                         US National Weather Servi...\n",
      "    forecast_time_units:                            hours\n",
      "    level:                                          [ 0.]\n",
      "    long_name:                                      Precipitation rate\n",
      "    parameter_template_discipline_category_number:  [0 0 1 7]\n",
      "    initial_time:                                   09/13/2017 (00:00)\n",
      "    grid_type:                                      Lambert Conformal can be ...\n",
      "    units:                                          kg m-2 s-1\n",
      "    level_type:                                     Ground or water surface\n",
      "    parameter_discipline_and_category:              Meteorological products, ...\n"
     ]
    }
   ],
   "source": [
    "with pa.open_mfdataset(downloaded_files,\n",
    "                       lat_var='gridlat_0',\n",
    "                       lon_var='gridlon_0',\n",
    "                       time_var='time',\n",
    "                       lat_dim='ygrid_0',\n",
    "                       lon_dim='xgrid_0',\n",
    "                       time_dim='time',\n",
    "                       loader='hrrr') as hrd:\n",
    "    print(hrd)\n",
    "    print(hrd.PRATE_P0_L1_GLC0)"
   ]
  },
  {
   "cell_type": "markdown",
   "metadata": {},
   "source": [
    "Map the variable in the GRIB files to the conversion function:"
   ]
  },
  {
   "cell_type": "code",
   "execution_count": 7,
   "metadata": {},
   "outputs": [],
   "source": [
    "hrrr_forecast_dir = os.path.dirname(downloaded_files[0])\n",
    "data_var_map_array = [\n",
    "   ['precipitation_rate', 'PRATE_P0_L1_GLC0'],\n",
    "   ['pressure', 'PRES_P0_L1_GLC0'],\n",
    "   ['relative_humidity', 'RH_P0_L103_GLC0'],\n",
    "   ['wind_speed', ['UGRD_P0_L103_GLC0', 'VGRD_P0_L103_GLC0']],\n",
    "   ['direct_radiation_cc', ['DSWRF_P0_L1_GLC0', 'TCDC_P0_L10_GLC0']],\n",
    "   ['diffusive_radiation_cc', ['DSWRF_P0_L1_GLC0', 'TCDC_P0_L10_GLC0']],\n",
    "   ['temperature', 'TMP_P0_L1_GLC0'],\n",
    "   ['cloud_cover_pc', 'TCDC_P0_L10_GLC0'],\n",
    "]"
   ]
  },
  {
   "cell_type": "markdown",
   "metadata": {},
   "source": [
    "Option 1. Convert Data:"
   ]
  },
  {
   "cell_type": "code",
   "execution_count": 18,
   "metadata": {},
   "outputs": [],
   "source": [
    "h2g = HRRRtoGSSHA(gssha_project_folder=gssha_model_directory,\n",
    "                  gssha_project_file_name=\"{0}.prj\".format(gssha_model_name),\n",
    "                  lsm_input_folder_path=hrrr_forecast_dir,\n",
    "                  lsm_search_card=\"hrrr.*.grib2\")\n",
    "\n",
    "# hmet\n",
    "h2g.lsm_data_to_arc_ascii(data_var_map_array)\n",
    "\n",
    "# gag\n",
    "out_gage_file = os.path.join(gssha_model_directory,\n",
    "                             'gage_hrrr.gag')\n",
    "h2g.lsm_precip_to_gssha_precip_gage(out_gage_file,\n",
    "                                    lsm_data_var='PRATE_P0_L1_GLC0',\n",
    "                                    precip_type='RADAR')"
   ]
  },
  {
   "cell_type": "markdown",
   "metadata": {},
   "source": [
    "Option 2. Convert Data & Run the model:"
   ]
  },
  {
   "cell_type": "code",
   "execution_count": null,
   "metadata": {
    "collapsed": true
   },
   "outputs": [],
   "source": [
    "grf = GSSHAFramework(\"gssha\",\n",
    "                     gssha_model_directory,\n",
    "                     \"{0}.prj\".format(gssha_model_name),\n",
    "                     lsm_folder=hrrr_forecast_dir,\n",
    "                     lsm_data_var_map_array=data_var_map_array,\n",
    "                     lsm_precip_data_var='PRATE_P0_L1_GLC0',\n",
    "                     lsm_precip_type='RADAR',\n",
    "                     lsm_search_card=\"hrrr.*.grib2\",\n",
    "                     lsm_lat_var='gridlat_0',\n",
    "                     lsm_lon_var='gridlon_0',\n",
    "                     lsm_time_var='time',\n",
    "                     lsm_lat_dim='ygrid_0',\n",
    "                     lsm_lon_dim='xgrid_0',\n",
    "                     lsm_time_dim='time',\n",
    "                     grid_module='hrrr')\n",
    "\n",
    "gssha_event_directory = gr.run_forecast()\n",
    "gssha_event_directory"
   ]
  },
  {
   "cell_type": "markdown",
   "metadata": {
    "collapsed": true
   },
   "source": [
    "The `gssha_event_directory` is where the simulation output is stored."
   ]
  },
  {
   "cell_type": "code",
   "execution_count": null,
   "metadata": {
    "collapsed": true
   },
   "outputs": [],
   "source": []
  }
 ],
 "metadata": {
  "kernelspec": {
   "display_name": "Python 2",
   "language": "python",
   "name": "python2"
  },
  "language_info": {
   "codemirror_mode": {
    "name": "ipython",
    "version": 2
   },
   "file_extension": ".py",
   "mimetype": "text/x-python",
   "name": "python",
   "nbconvert_exporter": "python",
   "pygments_lexer": "ipython2",
   "version": "2.7.13"
  }
 },
 "nbformat": 4,
 "nbformat_minor": 2
}
